{
 "cells": [
  {
   "cell_type": "code",
   "execution_count": 1,
   "id": "cbf7adbb",
   "metadata": {},
   "outputs": [],
   "source": [
    "import DBcm\n",
    "import random\n",
    "import requests\n",
    "from collections import Counter\n",
    "from datetime import datetime\n",
    "import datetime\n",
    "import time\n",
    "import mysql.connector\n",
    "from flask import Flask, request"
   ]
  },
  {
   "cell_type": "code",
   "execution_count": 2,
   "id": "f6552c3f",
   "metadata": {},
   "outputs": [],
   "source": [
    "# BIG_WORDS_FILE = \"data/bigWords.txt\"\n",
    "# SMALL_WORDS_FILE = \"data/smallWords.txt\""
   ]
  },
  {
   "cell_type": "code",
   "execution_count": 3,
   "id": "1c1eb452",
   "metadata": {},
   "outputs": [],
   "source": [
    "response = requests.get(\"http://paulbarry.itcarlow.ie/words.txt\")"
   ]
  },
  {
   "cell_type": "code",
   "execution_count": 4,
   "id": "18e0ce48",
   "metadata": {},
   "outputs": [],
   "source": [
    "session = requests.Session()"
   ]
  },
  {
   "cell_type": "code",
   "execution_count": 5,
   "id": "a22dd77a",
   "metadata": {},
   "outputs": [],
   "source": [
    "wordList = response.text"
   ]
  },
  {
   "cell_type": "code",
   "execution_count": 6,
   "id": "61c7c88d",
   "metadata": {},
   "outputs": [],
   "source": [
    "URL = \"https://c00248791-wordgame4database.anvil.app/_/api/\"\n",
    "URL_POST_LOG = URL + \"postToLog\"\n",
    "URL_GET_LOG = URL + \"getLog\"\n",
    "URL_GET_TOP10 = URL + \"getTop10\"\n",
    "URL_POST_TOP10 = URL + \"postToTop10\""
   ]
  },
  {
   "cell_type": "code",
   "execution_count": 7,
   "id": "a2f9ed44",
   "metadata": {},
   "outputs": [],
   "source": [
    "wordList = str.split(wordList)"
   ]
  },
  {
   "cell_type": "code",
   "execution_count": 8,
   "id": "43143fd8",
   "metadata": {},
   "outputs": [],
   "source": [
    "smallWords = []\n",
    "bigWords = []\n",
    "playerWords = []"
   ]
  },
  {
   "cell_type": "code",
   "execution_count": 9,
   "id": "629b2e8c",
   "metadata": {},
   "outputs": [],
   "source": [
    "###First Cleaning up words"
   ]
  },
  {
   "cell_type": "code",
   "execution_count": 10,
   "id": "dd598078",
   "metadata": {},
   "outputs": [],
   "source": [
    "for word in wordList:\n",
    "    word = word.lower().strip()\n",
    "    \n",
    "    if \"'s\" in word:\n",
    "        continue\n",
    "    \n",
    "    #print(word)\n",
    "    \n",
    "    if len(word) <= 7:\n",
    "        smallWords.append(word)\n",
    "    else:\n",
    "        bigWords.append(word)"
   ]
  },
  {
   "cell_type": "code",
   "execution_count": 11,
   "id": "ed42439e",
   "metadata": {},
   "outputs": [],
   "source": [
    "otherTime = datetime.datetime.now()#.ctime()"
   ]
  },
  {
   "cell_type": "code",
   "execution_count": 12,
   "id": "8a1ddf86",
   "metadata": {},
   "outputs": [
    {
     "name": "stdout",
     "output_type": "stream",
     "text": [
      "2022-05-01 21:46:15.402580\n",
      "0.0\n"
     ]
    }
   ],
   "source": [
    "print(datetime.datetime.now())\n",
    "\n",
    "\n",
    "newTime = datetime.datetime.now().timestamp() - otherTime.timestamp()\n",
    "newTime = str(round(newTime, 2))\n",
    "print(newTime)"
   ]
  },
  {
   "cell_type": "code",
   "execution_count": 13,
   "id": "af1c27bd",
   "metadata": {},
   "outputs": [
    {
     "name": "stdout",
     "output_type": "stream",
     "text": [
      "Make 7 words from this one!: regicide r\n",
      "['r']\n"
     ]
    }
   ],
   "source": [
    "selectedWord = random.choice(bigWords)\n",
    "selectedWord = \"regicide\"\n",
    "val = input(\"Make 7 words from this one!: \" + selectedWord + \" \")\n",
    "\n",
    "val = val.lower()\n",
    "val = str.split(val)\n",
    "print(val)"
   ]
  },
  {
   "cell_type": "code",
   "execution_count": 14,
   "id": "d489090f",
   "metadata": {},
   "outputs": [
    {
     "name": "stdout",
     "output_type": "stream",
     "text": [
      "2022-05-01 21:46:17.101155\n"
     ]
    }
   ],
   "source": [
    "print(datetime.datetime.now())"
   ]
  },
  {
   "cell_type": "code",
   "execution_count": 15,
   "id": "a796f44d",
   "metadata": {},
   "outputs": [],
   "source": [
    "#dt = datetime.today()  # Get timezone naive now\n",
    "#seconds = dt.timestamp()\n",
    "#print(seconds)"
   ]
  },
  {
   "cell_type": "code",
   "execution_count": 16,
   "id": "945f80ad",
   "metadata": {},
   "outputs": [],
   "source": [
    "listedWords = []\n",
    "listedWords.append(\"You have an incorrect number of words: \")\n"
   ]
  },
  {
   "cell_type": "code",
   "execution_count": 17,
   "id": "a6d82526",
   "metadata": {},
   "outputs": [],
   "source": [
    "validSubmission = True # Bool that will keep track\n",
    "# whether the submission is a success\n",
    "\n",
    "tooSmallWords = []\n",
    "misspeltWords = []\n",
    "invalidLetters = []"
   ]
  },
  {
   "cell_type": "code",
   "execution_count": 18,
   "id": "99618b99",
   "metadata": {},
   "outputs": [],
   "source": [
    "#html_content = requests.get(\"\").text"
   ]
  },
  {
   "cell_type": "code",
   "execution_count": null,
   "id": "0d13acce",
   "metadata": {},
   "outputs": [],
   "source": []
  },
  {
   "cell_type": "code",
   "execution_count": 19,
   "id": "2d77b2a5",
   "metadata": {},
   "outputs": [],
   "source": [
    "# Checks if the each word the player put in is valid"
   ]
  },
  {
   "cell_type": "code",
   "execution_count": 20,
   "id": "a02201b7",
   "metadata": {},
   "outputs": [
    {
     "name": "stdout",
     "output_type": "stream",
     "text": [
      "[]\n"
     ]
    }
   ],
   "source": [
    "for i in val:\n",
    "    wordFound = False\n",
    "    for smallWord in smallWords:\n",
    "        if i == smallWord:\n",
    "            wordFound = True\n",
    "    \n",
    "    if wordFound == False:\n",
    "        misspeltWords.append(i)\n",
    "\n",
    "print(misspeltWords)"
   ]
  },
  {
   "cell_type": "code",
   "execution_count": 21,
   "id": "92cb77aa",
   "metadata": {},
   "outputs": [],
   "source": [
    "# Checks if its in the bigger word"
   ]
  },
  {
   "cell_type": "code",
   "execution_count": 22,
   "id": "7a5cc604",
   "metadata": {},
   "outputs": [
    {
     "name": "stdout",
     "output_type": "stream",
     "text": [
      "[]\n"
     ]
    }
   ],
   "source": [
    "invalidLetters = []\n",
    "\n",
    "s = Counter(selectedWord)\n",
    "\n",
    "for loop in val:\n",
    "    w = Counter(loop)\n",
    " \n",
    "    for directory in w:\n",
    "        if w[directory] > s[directory]:\n",
    "            invalidLetters.append(directory)\n",
    "    \n",
    "print(invalidLetters)"
   ]
  },
  {
   "cell_type": "code",
   "execution_count": 23,
   "id": "3ce70f00",
   "metadata": {},
   "outputs": [],
   "source": [
    "#Checks if the word is less than 4 letters"
   ]
  },
  {
   "cell_type": "code",
   "execution_count": 24,
   "id": "6d1d9432",
   "metadata": {},
   "outputs": [],
   "source": [
    "tooSmallWords =[]"
   ]
  },
  {
   "cell_type": "code",
   "execution_count": 25,
   "id": "a94ad3c9",
   "metadata": {},
   "outputs": [
    {
     "name": "stdout",
     "output_type": "stream",
     "text": [
      "['r']\n"
     ]
    }
   ],
   "source": [
    "print(val)"
   ]
  },
  {
   "cell_type": "code",
   "execution_count": 26,
   "id": "421d4c0f",
   "metadata": {},
   "outputs": [
    {
     "name": "stdout",
     "output_type": "stream",
     "text": [
      "1\n"
     ]
    }
   ],
   "source": [
    "for i in val:\n",
    "    print(len(i))\n",
    "    if len(i) < 4:\n",
    "            tooSmallWords.append(i)"
   ]
  },
  {
   "cell_type": "code",
   "execution_count": 27,
   "id": "48915a80",
   "metadata": {},
   "outputs": [
    {
     "name": "stdout",
     "output_type": "stream",
     "text": [
      "['r']\n"
     ]
    }
   ],
   "source": [
    "print(tooSmallWords)"
   ]
  },
  {
   "cell_type": "code",
   "execution_count": 28,
   "id": "a1b5fe37",
   "metadata": {},
   "outputs": [],
   "source": [
    "finalResults = \"\"\n",
    "\n",
    "if len(val) < 7:\n",
    "    finalResults += \"You have an incorrect number of words: \"\n",
    "    finalResults += str(len(val)) + \", not 7.\"\n",
    "    finalResults += \"\\n\""
   ]
  },
  {
   "cell_type": "code",
   "execution_count": 29,
   "id": "99ab8045",
   "metadata": {},
   "outputs": [],
   "source": [
    "if len(invalidLetters) > 0:\n",
    "    finalResults += \"You used these invalid letters: \"\n",
    "    for letters in invalidLetters:\n",
    "        finalResults += letters + \" \"\n",
    "\n",
    "    finalResults += \"\\n\""
   ]
  },
  {
   "cell_type": "code",
   "execution_count": 30,
   "id": "de599041",
   "metadata": {},
   "outputs": [],
   "source": [
    "if len(misspeltWords) > 0:\n",
    "    finalResults += \"You misspelt these words: \"\n",
    "    for i in misspeltWords:\n",
    "        finalResults += i + \" \"\n",
    "    finalResults += \"\\n\""
   ]
  },
  {
   "cell_type": "code",
   "execution_count": 31,
   "id": "040332e5",
   "metadata": {},
   "outputs": [
    {
     "name": "stdout",
     "output_type": "stream",
     "text": [
      "You have an incorrect number of words: 1, not 7.\n",
      "These words are too small: r \n",
      "\n"
     ]
    }
   ],
   "source": [
    "if len(tooSmallWords) > 0:\n",
    "    finalResults += \"These words are too small: \"\n",
    "    for words in tooSmallWords:\n",
    "        finalResults += words + \" \"\n",
    "\n",
    "    finalResults += \"\\n\"\n",
    "print(finalResults)"
   ]
  },
  {
   "cell_type": "code",
   "execution_count": 32,
   "id": "92490b61",
   "metadata": {},
   "outputs": [],
   "source": [
    "success = finalResults == \"\"\n",
    "word = selectedWord\n",
    "\n",
    "\n",
    "submission = \"\"\n",
    "\n",
    "for wordSubmitted in val:\n",
    "    submission = submission + wordSubmitted + \" \"\n",
    "\n",
    "\n",
    "date_submitted = time.time()\n",
    "ip = \"Jupyter\"\n",
    "system = \"Notebook\""
   ]
  },
  {
   "cell_type": "code",
   "execution_count": 33,
   "id": "701c99e1",
   "metadata": {},
   "outputs": [
    {
     "name": "stdout",
     "output_type": "stream",
     "text": [
      "r \n"
     ]
    }
   ],
   "source": [
    "print(submission)"
   ]
  },
  {
   "cell_type": "code",
   "execution_count": 34,
   "id": "e94b55c7",
   "metadata": {},
   "outputs": [
    {
     "name": "stdout",
     "output_type": "stream",
     "text": [
      "{'success': False, 'word': 'regicide', 'submission': 'r ', 'date_submitted': 1651437977.172155, 'ip': 'Jupyter', 'system': 'Notebook'}\n"
     ]
    }
   ],
   "source": [
    "gameResults = {\n",
    "    \"success\": success,\n",
    "    \"word\": word,\n",
    "    \"submission\": submission,\n",
    "    \"date_submitted\": date_submitted,\n",
    "    \"ip\": ip,\n",
    "    \"system\": system,\n",
    "}\n",
    "\n",
    "print(gameResults)"
   ]
  },
  {
   "cell_type": "code",
   "execution_count": 35,
   "id": "3a3af960",
   "metadata": {},
   "outputs": [],
   "source": [
    "resp = requests.post(URL_POST_LOG, json=gameResults)"
   ]
  },
  {
   "cell_type": "code",
   "execution_count": 36,
   "id": "5d08a16b",
   "metadata": {},
   "outputs": [
    {
     "name": "stdout",
     "output_type": "stream",
     "text": [
      "<Response [200]>\n"
     ]
    }
   ],
   "source": [
    "t =  requests.get(URL_GET_TOP10)\n",
    "print(t)    "
   ]
  },
  {
   "cell_type": "code",
   "execution_count": 61,
   "id": "d743d585",
   "metadata": {},
   "outputs": [
    {
     "name": "stdout",
     "output_type": "stream",
     "text": [
      "['41.61', 'try', 'sequencing', 'guns ices snug nice sung queen scene']\n",
      "['47.6', 'x', 'soulmates', 'amulet mussel assume mouse motel lame meal']\n",
      "['47.6', 'x', 'soulmates', 'amulet mussel assume mouse motel lame meal']\n",
      "['50.45', 'c', 'toughens', 'thong goths goth ghost thugs tough sung']\n",
      "['50.45', 'c', 'toughens', 'thong goths goth ghost thugs tough sung']\n"
     ]
    }
   ],
   "source": [
    "top10players = []\n",
    "looping = 0\n",
    "\n",
    "#print(type(looping))\n",
    "      \n",
    "for player in t.json():\n",
    "#    print(player)\n",
    "    if looping < 10:\n",
    "        top10players.append(player)\n",
    "        looping += 1\n",
    "        \n",
    "        \n",
    "#while looping < 10:\n",
    "#    top10players.append([])\n",
    "#    looping += 1\n",
    "\n",
    "top10players.sort()\n",
    "\n",
    "for p in top10players:\n",
    "    print(p)"
   ]
  },
  {
   "cell_type": "code",
   "execution_count": 38,
   "id": "bc929fec",
   "metadata": {},
   "outputs": [
    {
     "name": "stdout",
     "output_type": "stream",
     "text": [
      "Counter({'r': 1})\n"
     ]
    }
   ],
   "source": [
    "    for i in val:\n",
    "        w = Counter(i)\n",
    "        for directory in w:\n",
    "            # if s[directory] < 0:\n",
    "            print(w)\n",
    "            if w[directory] > s[directory]:\n",
    "                invalidLetters.append(directory)"
   ]
  },
  {
   "cell_type": "code",
   "execution_count": 39,
   "id": "f8656460",
   "metadata": {},
   "outputs": [
    {
     "name": "stdout",
     "output_type": "stream",
     "text": [
      "<class 'str'>\n"
     ]
    }
   ],
   "source": [
    "import socket\n",
    "\n",
    "hostname = socket.gethostname()\n",
    "local_ip = socket.gethostbyname(hostname)\n",
    "\n",
    "print(type(local_ip))"
   ]
  },
  {
   "cell_type": "code",
   "execution_count": 40,
   "id": "baa1bde2",
   "metadata": {},
   "outputs": [
    {
     "data": {
      "text/plain": [
       "'Sun May  1 21:46:18 2022'"
      ]
     },
     "execution_count": 40,
     "metadata": {},
     "output_type": "execute_result"
    }
   ],
   "source": [
    "datetime.datetime.now().ctime()"
   ]
  },
  {
   "cell_type": "code",
   "execution_count": 41,
   "id": "59d05140",
   "metadata": {},
   "outputs": [
    {
     "name": "stdout",
     "output_type": "stream",
     "text": [
      "<class 'str'>\n"
     ]
    }
   ],
   "source": [
    "    hostname = socket.gethostname()\n",
    "    local_ip = socket.gethostbyname(hostname)\n",
    "    print(type(local_ip))"
   ]
  },
  {
   "cell_type": "code",
   "execution_count": null,
   "id": "c5bff88f",
   "metadata": {},
   "outputs": [],
   "source": []
  },
  {
   "cell_type": "code",
   "execution_count": 42,
   "id": "bc3b49eb",
   "metadata": {},
   "outputs": [
    {
     "name": "stdout",
     "output_type": "stream",
     "text": [
      "1650748030.944738\n",
      "1650830280.847364\n",
      "1650882660.608751\n",
      "1650882700.539565\n",
      "1650906376.104018\n",
      "1651055042.937463\n",
      "1651056065.453131\n",
      "1651074271.281333\n",
      "1651075194.594214\n",
      "1651075228.715554\n",
      "1651075467.965538\n",
      "1651432241.120468\n",
      "1651432286.324658\n",
      "1651432322.868255\n",
      "1651432929.611887\n",
      "1651433129.979483\n",
      "1651433164.589484\n",
      "1651433379.937154\n",
      "1651433707.231069\n",
      "1651434910.468476\n",
      "1651435836.503598\n",
      "1651435886.472477\n",
      "1651437464.156718\n",
      "1651437497.422755\n",
      "1651437542.05301\n",
      "1651437977.172155\n"
     ]
    }
   ],
   "source": [
    "data =  requests.get(URL_GET_LOG)\n",
    "\n",
    "for sub in data.json():\n",
    "    print(sub[3])"
   ]
  },
  {
   "cell_type": "code",
   "execution_count": 43,
   "id": "bfde2648",
   "metadata": {},
   "outputs": [
    {
     "name": "stdout",
     "output_type": "stream",
     "text": [
      "2022-05-01 21:46:18.765831\n"
     ]
    }
   ],
   "source": [
    "print(datetime.datetime.now())"
   ]
  },
  {
   "cell_type": "code",
   "execution_count": 44,
   "id": "478ed65f",
   "metadata": {},
   "outputs": [
    {
     "data": {
      "text/plain": [
       "'Sun'"
      ]
     },
     "execution_count": 44,
     "metadata": {},
     "output_type": "execute_result"
    }
   ],
   "source": [
    "datetime.datetime.today().strftime(\"%b\")\n",
    "datetime.datetime.today().strftime(\"%a\")"
   ]
  },
  {
   "cell_type": "code",
   "execution_count": 45,
   "id": "58825b11",
   "metadata": {},
   "outputs": [
    {
     "data": {
      "text/plain": [
       "'Sun May 01 21:46:18 2022'"
      ]
     },
     "execution_count": 45,
     "metadata": {},
     "output_type": "execute_result"
    }
   ],
   "source": [
    "datetime.datetime.now().strftime('%a %b %d %H:%M:%S %Y')"
   ]
  },
  {
   "cell_type": "code",
   "execution_count": 46,
   "id": "7bfce5b5",
   "metadata": {},
   "outputs": [
    {
     "name": "stdout",
     "output_type": "stream",
     "text": [
      "['r']\n"
     ]
    }
   ],
   "source": [
    "print(val)"
   ]
  },
  {
   "cell_type": "code",
   "execution_count": null,
   "id": "23fd9810",
   "metadata": {},
   "outputs": [],
   "source": []
  }
 ],
 "metadata": {
  "kernelspec": {
   "display_name": "Python 3 (ipykernel)",
   "language": "python",
   "name": "python3"
  },
  "language_info": {
   "codemirror_mode": {
    "name": "ipython",
    "version": 3
   },
   "file_extension": ".py",
   "mimetype": "text/x-python",
   "name": "python",
   "nbconvert_exporter": "python",
   "pygments_lexer": "ipython3",
   "version": "3.9.7"
  }
 },
 "nbformat": 4,
 "nbformat_minor": 5
}
